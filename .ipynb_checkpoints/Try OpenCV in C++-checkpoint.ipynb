{
 "cells": [
  {
   "cell_type": "code",
   "execution_count": 1,
   "metadata": {},
   "outputs": [],
   "source": [
    "#pragma cling add_library_path(\"/usr/lib64\")\n",
    "#pragma cling add_include_path(\"/usr/include\")\n",
    "#pragma cling add_include_path(\"/usr/include/opencv4/\")\n",
    "\n",
    "#pragma cling add_library_path(\"/usr/local/lib64\")\n",
    "#pragma cling add_include_path(\"/usr/local/include\")\n",
    "#pragma cling add_include_path(\"/usr/local/include/opencv4\")\n",
    "#pragma cling add_include_path(\"/usr/local/include/opencv4/opencv2\")\n",
    "\n",
    "#pragma cling load(\"libopencv_calib3d.so\")\n",
    "#pragma cling load(\"libopencv_calib3d.so.4.1\")\n",
    "#pragma cling load(\"libopencv_core.so\")\n",
    "#pragma cling load(\"libopencv_core.so.4.1\")\n",
    "#pragma cling load(\"libopencv_dnn.so\")\n",
    "#pragma cling load(\"libopencv_dnn.so.4.1\")\n",
    "#pragma cling load(\"libopencv_features2d.so\")\n",
    "#pragma cling load(\"libopencv_features2d.so.4.1\")\n",
    "#pragma cling load(\"libopencv_flann.so\")\n",
    "#pragma cling load(\"libopencv_flann.so.4.1\")\n",
    "#pragma cling load(\"libopencv_gapi.so\")\n",
    "#pragma cling load(\"libopencv_gapi.so.4.1\")\n",
    "#pragma cling load(\"libopencv_highgui.so\")\n",
    "#pragma cling load(\"libopencv_highgui.so.4.1\")\n",
    "#pragma cling load(\"libopencv_imgcodecs.so\")\n",
    "#pragma cling load(\"libopencv_imgcodecs.so.4.1\")\n",
    "#pragma cling load(\"libopencv_imgproc.so\")\n",
    "#pragma cling load(\"libopencv_imgproc.so.4.1\")\n",
    "#pragma cling load(\"libopencv_ml.so\")\n",
    "#pragma cling load(\"libopencv_ml.so.4.1\")\n",
    "#pragma cling load(\"libopencv_objdetect.so\")\n",
    "#pragma cling load(\"libopencv_objdetect.so.4.1\")\n",
    "#pragma cling load(\"libopencv_photo.so\")\n",
    "#pragma cling load(\"libopencv_photo.so.4.1\")\n",
    "#pragma cling load(\"libopencv_stitching.so\")\n",
    "#pragma cling load(\"libopencv_stitching.so.4.1\")\n",
    "#pragma cling load(\"libopencv_videoio.so\")\n",
    "#pragma cling load(\"libopencv_videoio.so.4.1\")\n",
    "#pragma cling load(\"libopencv_video.so\")\n",
    "#pragma cling load(\"libopencv_video.so.4.1\")\n",
    "#pragma cling load(\"libopencv_world.so\")\n",
    "#pragma cling load(\"libopencv_world.so.4.1\")\n",
    "#pragma cling load(\"libopencv_world.so.4.1.1\")"
   ]
  },
  {
   "cell_type": "code",
   "execution_count": 2,
   "metadata": {},
   "outputs": [],
   "source": [
    "#include <stdio.h>\n",
    "#include <opencv2/opencv.hpp>"
   ]
  },
  {
   "cell_type": "code",
   "execution_count": null,
   "metadata": {},
   "outputs": [],
   "source": [
    "#include <iostream>\n",
    "\n",
    "int main()\n",
    "{\n",
    "    using namespace std;\n",
    "    cout << \"Compiled!\" << endl;\n",
    "    return 0;\n",
    "}"
   ]
  }
 ],
 "metadata": {
  "kernelspec": {
   "display_name": "C++11",
   "language": "C++11",
   "name": "xeus-cling-cpp11"
  },
  "language_info": {
   "codemirror_mode": "text/x-c++src",
   "file_extension": ".cpp",
   "mimetype": "text/x-c++src",
   "name": "c++",
   "version": "-std=c++11"
  }
 },
 "nbformat": 4,
 "nbformat_minor": 2
}
